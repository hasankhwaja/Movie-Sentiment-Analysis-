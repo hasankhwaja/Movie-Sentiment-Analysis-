{
  "cells": [
    {
      "cell_type": "markdown",
      "metadata": {
        "id": "view-in-github",
        "colab_type": "text"
      },
      "source": [
        "<a href=\"https://colab.research.google.com/github/hasankhwaja/Movie-Sentiment-Analysis-/blob/main/naive_bayes.ipynb\" target=\"_parent\"><img src=\"https://colab.research.google.com/assets/colab-badge.svg\" alt=\"Open In Colab\"/></a>"
      ]
    },
    {
      "cell_type": "code",
      "source": [
        "!pip install -U -q PyDrive\n"
      ],
      "metadata": {
        "id": "EYE7hhQr0YuP"
      },
      "id": "EYE7hhQr0YuP",
      "execution_count": null,
      "outputs": []
    },
    {
      "cell_type": "code",
      "source": [
        "from google.colab import drive\n",
        "drive.mount('/content/drive')\n",
        "\n",
        "\n",
        "from pydrive.auth import GoogleAuth\n",
        "from pydrive.drive import GoogleDrive\n",
        "from google.colab import auth\n",
        "from oauth2client.client import GoogleCredentials\n",
        "\n",
        "\n",
        "# Authenticate and create the PyDrive client.\n",
        "auth.authenticate_user()\n",
        "gauth = GoogleAuth()\n",
        "gauth.credentials = GoogleCredentials.get_application_default()\n",
        "drive = GoogleDrive(gauth)\n"
      ],
      "metadata": {
        "colab": {
          "base_uri": "https://localhost:8080/"
        },
        "id": "e3siBjUGziW4",
        "outputId": "3e816a85-3909-4a40-c6b2-c4f92e8177d3"
      },
      "id": "e3siBjUGziW4",
      "execution_count": null,
      "outputs": [
        {
          "output_type": "stream",
          "name": "stdout",
          "text": [
            "Mounted at /content/drive\n"
          ]
        },
        {
          "output_type": "stream",
          "name": "stderr",
          "text": [
            "WARNING:root:pydrive is deprecated and no longer maintained. We recommend that you migrate your projects to pydrive2, the maintained fork of pydrive\n"
          ]
        }
      ]
    },
    {
      "cell_type": "code",
      "source": [
        "link = 'https://drive.google.com/file/d/1l_5o4Bkbs3Uab_WezeCoo2C3JCb8BrBc/view'\n",
        "\n",
        "import pandas as pd\n",
        "\n",
        "# to get the id part of the file\n",
        "id = link.split(\"/\")[-2]\n",
        "\n",
        "downloaded = drive.CreateFile({'id':id})\n",
        "downloaded.GetContentFile('train.tsv')\n",
        "downloaded.GetContentFile('test.tsv')\n",
        "\n",
        "data = pd.read_csv('train.tsv', sep = '\\t')\n",
        "data_test = pd.read_csv('test.tsv', sep = '\\t')\n",
        "\n",
        "print(data_test)\n"
      ],
      "metadata": {
        "colab": {
          "base_uri": "https://localhost:8080/"
        },
        "id": "HN_EC4dB0f3d",
        "outputId": "fb401b67-a2bb-4959-9247-4eb90ef76fcd"
      },
      "id": "HN_EC4dB0f3d",
      "execution_count": null,
      "outputs": [
        {
          "output_type": "stream",
          "name": "stdout",
          "text": [
            "        PhraseId  SentenceId  \\\n",
            "0              1           1   \n",
            "1              2           1   \n",
            "2              3           1   \n",
            "3              4           1   \n",
            "4              5           1   \n",
            "...          ...         ...   \n",
            "156055    156056        8544   \n",
            "156056    156057        8544   \n",
            "156057    156058        8544   \n",
            "156058    156059        8544   \n",
            "156059    156060        8544   \n",
            "\n",
            "                                                   Phrase  Sentiment  \n",
            "0       A series of escapades demonstrating the adage ...          1  \n",
            "1       A series of escapades demonstrating the adage ...          2  \n",
            "2                                                A series          2  \n",
            "3                                                       A          2  \n",
            "4                                                  series          2  \n",
            "...                                                   ...        ...  \n",
            "156055                                          Hearst 's          2  \n",
            "156056                          forced avuncular chortles          1  \n",
            "156057                                 avuncular chortles          3  \n",
            "156058                                          avuncular          2  \n",
            "156059                                           chortles          2  \n",
            "\n",
            "[156060 rows x 4 columns]\n"
          ]
        }
      ]
    },
    {
      "cell_type": "code",
      "source": [],
      "metadata": {
        "id": "8oSMoupH1jH3"
      },
      "id": "8oSMoupH1jH3",
      "execution_count": null,
      "outputs": []
    },
    {
      "cell_type": "code",
      "execution_count": null,
      "id": "a5eb1d22-f0db-4cb4-b53d-09d372584268",
      "metadata": {
        "id": "a5eb1d22-f0db-4cb4-b53d-09d372584268",
        "outputId": "61fcdc13-1cc5-4e70-f643-7f3666363ac8",
        "colab": {
          "base_uri": "https://localhost:8080/"
        }
      },
      "outputs": [
        {
          "output_type": "stream",
          "name": "stderr",
          "text": [
            "[nltk_data] Downloading package wordnet to /root/nltk_data...\n",
            "[nltk_data] Downloading package omw-1.4 to /root/nltk_data...\n",
            "[nltk_data] Downloading package stopwords to /root/nltk_data...\n",
            "[nltk_data]   Unzipping corpora/stopwords.zip.\n"
          ]
        }
      ],
      "source": [
        "import re\n",
        "import pandas as pd\n",
        "import numpy as np\n",
        "from sklearn.preprocessing import LabelEncoder\n",
        "from sklearn.model_selection import train_test_split\n",
        "from sklearn.metrics import classification_report\n",
        "from sklearn.metrics import accuracy_score\n",
        "from sklearn.feature_extraction.text import CountVectorizer\n",
        "import math\n",
        "import nltk\n",
        "from nltk.corpus import stopwords\n",
        "nltk.download('wordnet')\n",
        "nltk.download('omw-1.4')\n",
        "nltk.download('stopwords')\n",
        "from collections import defaultdict\n",
        "\n",
        "#data_test = pd.read_csv('test.tsv', sep = '\\t')\n",
        "#data.head()"
      ]
    },
    {
      "cell_type": "code",
      "source": [],
      "metadata": {
        "id": "bf5Wob3x0BCG"
      },
      "id": "bf5Wob3x0BCG",
      "execution_count": null,
      "outputs": []
    },
    {
      "cell_type": "code",
      "execution_count": null,
      "id": "aaaf8b14-b51f-4142-b893-9d0ef57bdace",
      "metadata": {
        "id": "aaaf8b14-b51f-4142-b893-9d0ef57bdace"
      },
      "outputs": [],
      "source": [
        "# data preprocessing\n",
        "\n",
        "def remove_tags(string):\n",
        "    removelist = \"\"\n",
        "    result = re.sub('<.*?>', '', string)  # remove HTML tags\n",
        "    result = re.sub('https://.*', '', result)   # Remove URLs\n",
        "    result = re.sub(r'[^\\w\\s]', ' ', result)    # Remove non-alphanumeric characters\n",
        "    result = result.lower()\n",
        "    return result\n",
        "\n",
        "# remove stop words that hold no meaning for sentiment\n",
        "data['Phrase']=data['Phrase'].apply(lambda cw : remove_tags(cw))\n",
        "stop_words = set(stopwords.words('english'))\n",
        "data['Phrase'] = data['Phrase'].apply(lambda x: ' '.join([word for word in x.split() if word not in (stop_words)]))\n"
      ]
    },
    {
      "cell_type": "code",
      "execution_count": null,
      "id": "9fcb248e-a38d-4c69-a6eb-ed98cbfb64ae",
      "metadata": {
        "id": "9fcb248e-a38d-4c69-a6eb-ed98cbfb64ae",
        "outputId": "373e718a-ab07-4c0e-e661-24cf01fd1315",
        "colab": {
          "base_uri": "https://localhost:8080/",
          "height": 206
        }
      },
      "outputs": [
        {
          "output_type": "execute_result",
          "data": {
            "text/plain": [
              "   PhraseId  SentenceId                                             Phrase  \\\n",
              "0         1           1  A series of escapades demonstrating the adage ...   \n",
              "1         2           1  A series of escapades demonstrating the adage ...   \n",
              "2         3           1                                           A series   \n",
              "3         4           1                                                  A   \n",
              "4         5           1                                             series   \n",
              "\n",
              "   Sentiment  \n",
              "0          1  \n",
              "1          2  \n",
              "2          2  \n",
              "3          2  \n",
              "4          2  "
            ],
            "text/html": [
              "\n",
              "  <div id=\"df-2d98c7e4-0900-4c14-a039-260c525fe6b7\" class=\"colab-df-container\">\n",
              "    <div>\n",
              "<style scoped>\n",
              "    .dataframe tbody tr th:only-of-type {\n",
              "        vertical-align: middle;\n",
              "    }\n",
              "\n",
              "    .dataframe tbody tr th {\n",
              "        vertical-align: top;\n",
              "    }\n",
              "\n",
              "    .dataframe thead th {\n",
              "        text-align: right;\n",
              "    }\n",
              "</style>\n",
              "<table border=\"1\" class=\"dataframe\">\n",
              "  <thead>\n",
              "    <tr style=\"text-align: right;\">\n",
              "      <th></th>\n",
              "      <th>PhraseId</th>\n",
              "      <th>SentenceId</th>\n",
              "      <th>Phrase</th>\n",
              "      <th>Sentiment</th>\n",
              "    </tr>\n",
              "  </thead>\n",
              "  <tbody>\n",
              "    <tr>\n",
              "      <th>0</th>\n",
              "      <td>1</td>\n",
              "      <td>1</td>\n",
              "      <td>A series of escapades demonstrating the adage ...</td>\n",
              "      <td>1</td>\n",
              "    </tr>\n",
              "    <tr>\n",
              "      <th>1</th>\n",
              "      <td>2</td>\n",
              "      <td>1</td>\n",
              "      <td>A series of escapades demonstrating the adage ...</td>\n",
              "      <td>2</td>\n",
              "    </tr>\n",
              "    <tr>\n",
              "      <th>2</th>\n",
              "      <td>3</td>\n",
              "      <td>1</td>\n",
              "      <td>A series</td>\n",
              "      <td>2</td>\n",
              "    </tr>\n",
              "    <tr>\n",
              "      <th>3</th>\n",
              "      <td>4</td>\n",
              "      <td>1</td>\n",
              "      <td>A</td>\n",
              "      <td>2</td>\n",
              "    </tr>\n",
              "    <tr>\n",
              "      <th>4</th>\n",
              "      <td>5</td>\n",
              "      <td>1</td>\n",
              "      <td>series</td>\n",
              "      <td>2</td>\n",
              "    </tr>\n",
              "  </tbody>\n",
              "</table>\n",
              "</div>\n",
              "    <div class=\"colab-df-buttons\">\n",
              "\n",
              "  <div class=\"colab-df-container\">\n",
              "    <button class=\"colab-df-convert\" onclick=\"convertToInteractive('df-2d98c7e4-0900-4c14-a039-260c525fe6b7')\"\n",
              "            title=\"Convert this dataframe to an interactive table.\"\n",
              "            style=\"display:none;\">\n",
              "\n",
              "  <svg xmlns=\"http://www.w3.org/2000/svg\" height=\"24px\" viewBox=\"0 -960 960 960\">\n",
              "    <path d=\"M120-120v-720h720v720H120Zm60-500h600v-160H180v160Zm220 220h160v-160H400v160Zm0 220h160v-160H400v160ZM180-400h160v-160H180v160Zm440 0h160v-160H620v160ZM180-180h160v-160H180v160Zm440 0h160v-160H620v160Z\"/>\n",
              "  </svg>\n",
              "    </button>\n",
              "\n",
              "  <style>\n",
              "    .colab-df-container {\n",
              "      display:flex;\n",
              "      gap: 12px;\n",
              "    }\n",
              "\n",
              "    .colab-df-convert {\n",
              "      background-color: #E8F0FE;\n",
              "      border: none;\n",
              "      border-radius: 50%;\n",
              "      cursor: pointer;\n",
              "      display: none;\n",
              "      fill: #1967D2;\n",
              "      height: 32px;\n",
              "      padding: 0 0 0 0;\n",
              "      width: 32px;\n",
              "    }\n",
              "\n",
              "    .colab-df-convert:hover {\n",
              "      background-color: #E2EBFA;\n",
              "      box-shadow: 0px 1px 2px rgba(60, 64, 67, 0.3), 0px 1px 3px 1px rgba(60, 64, 67, 0.15);\n",
              "      fill: #174EA6;\n",
              "    }\n",
              "\n",
              "    .colab-df-buttons div {\n",
              "      margin-bottom: 4px;\n",
              "    }\n",
              "\n",
              "    [theme=dark] .colab-df-convert {\n",
              "      background-color: #3B4455;\n",
              "      fill: #D2E3FC;\n",
              "    }\n",
              "\n",
              "    [theme=dark] .colab-df-convert:hover {\n",
              "      background-color: #434B5C;\n",
              "      box-shadow: 0px 1px 3px 1px rgba(0, 0, 0, 0.15);\n",
              "      filter: drop-shadow(0px 1px 2px rgba(0, 0, 0, 0.3));\n",
              "      fill: #FFFFFF;\n",
              "    }\n",
              "  </style>\n",
              "\n",
              "    <script>\n",
              "      const buttonEl =\n",
              "        document.querySelector('#df-2d98c7e4-0900-4c14-a039-260c525fe6b7 button.colab-df-convert');\n",
              "      buttonEl.style.display =\n",
              "        google.colab.kernel.accessAllowed ? 'block' : 'none';\n",
              "\n",
              "      async function convertToInteractive(key) {\n",
              "        const element = document.querySelector('#df-2d98c7e4-0900-4c14-a039-260c525fe6b7');\n",
              "        const dataTable =\n",
              "          await google.colab.kernel.invokeFunction('convertToInteractive',\n",
              "                                                    [key], {});\n",
              "        if (!dataTable) return;\n",
              "\n",
              "        const docLinkHtml = 'Like what you see? Visit the ' +\n",
              "          '<a target=\"_blank\" href=https://colab.research.google.com/notebooks/data_table.ipynb>data table notebook</a>'\n",
              "          + ' to learn more about interactive tables.';\n",
              "        element.innerHTML = '';\n",
              "        dataTable['output_type'] = 'display_data';\n",
              "        await google.colab.output.renderOutput(dataTable, element);\n",
              "        const docLink = document.createElement('div');\n",
              "        docLink.innerHTML = docLinkHtml;\n",
              "        element.appendChild(docLink);\n",
              "      }\n",
              "    </script>\n",
              "  </div>\n",
              "\n",
              "\n",
              "<div id=\"df-b8bb0d6f-5b70-4314-80ec-02e73f9634c7\">\n",
              "  <button class=\"colab-df-quickchart\" onclick=\"quickchart('df-b8bb0d6f-5b70-4314-80ec-02e73f9634c7')\"\n",
              "            title=\"Suggest charts\"\n",
              "            style=\"display:none;\">\n",
              "\n",
              "<svg xmlns=\"http://www.w3.org/2000/svg\" height=\"24px\"viewBox=\"0 0 24 24\"\n",
              "     width=\"24px\">\n",
              "    <g>\n",
              "        <path d=\"M19 3H5c-1.1 0-2 .9-2 2v14c0 1.1.9 2 2 2h14c1.1 0 2-.9 2-2V5c0-1.1-.9-2-2-2zM9 17H7v-7h2v7zm4 0h-2V7h2v10zm4 0h-2v-4h2v4z\"/>\n",
              "    </g>\n",
              "</svg>\n",
              "  </button>\n",
              "\n",
              "<style>\n",
              "  .colab-df-quickchart {\n",
              "      --bg-color: #E8F0FE;\n",
              "      --fill-color: #1967D2;\n",
              "      --hover-bg-color: #E2EBFA;\n",
              "      --hover-fill-color: #174EA6;\n",
              "      --disabled-fill-color: #AAA;\n",
              "      --disabled-bg-color: #DDD;\n",
              "  }\n",
              "\n",
              "  [theme=dark] .colab-df-quickchart {\n",
              "      --bg-color: #3B4455;\n",
              "      --fill-color: #D2E3FC;\n",
              "      --hover-bg-color: #434B5C;\n",
              "      --hover-fill-color: #FFFFFF;\n",
              "      --disabled-bg-color: #3B4455;\n",
              "      --disabled-fill-color: #666;\n",
              "  }\n",
              "\n",
              "  .colab-df-quickchart {\n",
              "    background-color: var(--bg-color);\n",
              "    border: none;\n",
              "    border-radius: 50%;\n",
              "    cursor: pointer;\n",
              "    display: none;\n",
              "    fill: var(--fill-color);\n",
              "    height: 32px;\n",
              "    padding: 0;\n",
              "    width: 32px;\n",
              "  }\n",
              "\n",
              "  .colab-df-quickchart:hover {\n",
              "    background-color: var(--hover-bg-color);\n",
              "    box-shadow: 0 1px 2px rgba(60, 64, 67, 0.3), 0 1px 3px 1px rgba(60, 64, 67, 0.15);\n",
              "    fill: var(--button-hover-fill-color);\n",
              "  }\n",
              "\n",
              "  .colab-df-quickchart-complete:disabled,\n",
              "  .colab-df-quickchart-complete:disabled:hover {\n",
              "    background-color: var(--disabled-bg-color);\n",
              "    fill: var(--disabled-fill-color);\n",
              "    box-shadow: none;\n",
              "  }\n",
              "\n",
              "  .colab-df-spinner {\n",
              "    border: 2px solid var(--fill-color);\n",
              "    border-color: transparent;\n",
              "    border-bottom-color: var(--fill-color);\n",
              "    animation:\n",
              "      spin 1s steps(1) infinite;\n",
              "  }\n",
              "\n",
              "  @keyframes spin {\n",
              "    0% {\n",
              "      border-color: transparent;\n",
              "      border-bottom-color: var(--fill-color);\n",
              "      border-left-color: var(--fill-color);\n",
              "    }\n",
              "    20% {\n",
              "      border-color: transparent;\n",
              "      border-left-color: var(--fill-color);\n",
              "      border-top-color: var(--fill-color);\n",
              "    }\n",
              "    30% {\n",
              "      border-color: transparent;\n",
              "      border-left-color: var(--fill-color);\n",
              "      border-top-color: var(--fill-color);\n",
              "      border-right-color: var(--fill-color);\n",
              "    }\n",
              "    40% {\n",
              "      border-color: transparent;\n",
              "      border-right-color: var(--fill-color);\n",
              "      border-top-color: var(--fill-color);\n",
              "    }\n",
              "    60% {\n",
              "      border-color: transparent;\n",
              "      border-right-color: var(--fill-color);\n",
              "    }\n",
              "    80% {\n",
              "      border-color: transparent;\n",
              "      border-right-color: var(--fill-color);\n",
              "      border-bottom-color: var(--fill-color);\n",
              "    }\n",
              "    90% {\n",
              "      border-color: transparent;\n",
              "      border-bottom-color: var(--fill-color);\n",
              "    }\n",
              "  }\n",
              "</style>\n",
              "\n",
              "  <script>\n",
              "    async function quickchart(key) {\n",
              "      const quickchartButtonEl =\n",
              "        document.querySelector('#' + key + ' button');\n",
              "      quickchartButtonEl.disabled = true;  // To prevent multiple clicks.\n",
              "      quickchartButtonEl.classList.add('colab-df-spinner');\n",
              "      try {\n",
              "        const charts = await google.colab.kernel.invokeFunction(\n",
              "            'suggestCharts', [key], {});\n",
              "      } catch (error) {\n",
              "        console.error('Error during call to suggestCharts:', error);\n",
              "      }\n",
              "      quickchartButtonEl.classList.remove('colab-df-spinner');\n",
              "      quickchartButtonEl.classList.add('colab-df-quickchart-complete');\n",
              "    }\n",
              "    (() => {\n",
              "      let quickchartButtonEl =\n",
              "        document.querySelector('#df-b8bb0d6f-5b70-4314-80ec-02e73f9634c7 button');\n",
              "      quickchartButtonEl.style.display =\n",
              "        google.colab.kernel.accessAllowed ? 'block' : 'none';\n",
              "    })();\n",
              "  </script>\n",
              "</div>\n",
              "\n",
              "    </div>\n",
              "  </div>\n"
            ],
            "application/vnd.google.colaboratory.intrinsic+json": {
              "type": "dataframe",
              "variable_name": "data_test"
            }
          },
          "metadata": {},
          "execution_count": 5
        }
      ],
      "source": [
        "# perform lemmatization to find root form of words\n",
        "\n",
        "w_tokenizer = nltk.tokenize.WhitespaceTokenizer()\n",
        "lemmatizer = nltk.stem.WordNetLemmatizer()\n",
        "def lemmatize_text(text):\n",
        "    st = \"\"\n",
        "    for w in w_tokenizer.tokenize(text):\n",
        "        st = st + lemmatizer.lemmatize(w) + \" \"\n",
        "    return st\n",
        "data['Phrase'] = data.Phrase.apply(lemmatize_text)\n",
        "\n",
        "data_test.head()"
      ]
    },
    {
      "cell_type": "code",
      "execution_count": null,
      "id": "8dfd8be6-9b02-40e2-9655-1ec061d99f7a",
      "metadata": {
        "id": "8dfd8be6-9b02-40e2-9655-1ec061d99f7a",
        "outputId": "9ad67d11-dbd2-4c29-a4bd-c3ef8e52bf2b",
        "colab": {
          "base_uri": "https://localhost:8080/"
        }
      },
      "outputs": [
        {
          "output_type": "stream",
          "name": "stdout",
          "text": [
            "Sentiment\n",
            "2    79582\n",
            "3    32927\n",
            "1    27273\n",
            "4     9206\n",
            "0     7072\n",
            "Name: count, dtype: int64\n"
          ]
        }
      ],
      "source": [
        "print(data['Sentiment'].value_counts())"
      ]
    },
    {
      "cell_type": "code",
      "execution_count": null,
      "id": "695f5a46-fe73-448f-8c19-e56a972e5c05",
      "metadata": {
        "id": "695f5a46-fe73-448f-8c19-e56a972e5c05"
      },
      "outputs": [],
      "source": [
        "# Feature extraction\n",
        "'''\n",
        "phrases = data['Phrase'].values\n",
        "sentiment_score = data['Sentiment'].values\n",
        "train_phrases, test_phrases, train_labels, test_labels = train_test_split(phrases, sentiment_score)\n",
        "'''\n",
        "\n",
        "train_phrases = data['Phrase'].values\n",
        "train_labels = data['Sentiment'].values\n",
        "test_phrases = data_test['Phrase'].values\n",
        "test_labels = data_test['Sentiment'].values\n",
        "\n",
        "# start vectorization\n",
        "vector = CountVectorizer(max_features = 3000)\n",
        "X = vector.fit_transform(train_phrases)\n",
        "vocab = vector.get_feature_names_out()\n",
        "\n",
        "# initialize word counts\n",
        "X = X.toarray()\n",
        "word_counts = {}\n",
        "for i in range(5):\n",
        "    word_counts[i] = defaultdict(lambda: 0)\n",
        "\n",
        "# store frequency of word counts in a dictionary\n",
        "for j in range(X.shape[0]):\n",
        "    i = train_labels[j]\n",
        "    for h in range(len(vocab)):\n",
        "        word_counts[i][vocab[h]] += X[j][h]\n"
      ]
    },
    {
      "cell_type": "code",
      "execution_count": null,
      "id": "e828525e-035b-4cc0-a797-3dda997de5c9",
      "metadata": {
        "id": "e828525e-035b-4cc0-a797-3dda997de5c9"
      },
      "outputs": [],
      "source": [
        "# Perform laplace smoothing the difference of words between training and test set\n",
        "\n",
        "def laplace_smoothing(n_label_items, vocab, word_counts, word, text_label):\n",
        "    a = word_counts[text_label][word] + 1\n",
        "    b = n_label_items[text_label] + len(vocab)\n",
        "    return math.log(a/b)\n",
        "\n",
        "# define fit and predict functions for the classifier\n",
        "\n",
        "def group_by_label(x, y, labels):\n",
        "    dict_data = defaultdict(list)\n",
        "    for l in labels:\n",
        "        dict_data[l] = x[np.where(y == l)]\n",
        "    return dict_data\n",
        "\n",
        "def fit(x, y, labels):\n",
        "    n_label_items = {}\n",
        "    log_label_priors = {}\n",
        "    n = len(x)\n",
        "    grouped_data = group_by_label(x, y, labels)\n",
        "    for l, dict_data in grouped_data.items():\n",
        "        n_label_items[l] = len(dict_data)\n",
        "        log_label_priors[l] = math.log(n_label_items[l] / n)\n",
        "    return n_label_items, log_label_priors\n",
        "\n",
        "def predict(n_label_items, vocab, word_counts, log_label_priors, labels, x):\n",
        "    result = []\n",
        "    for text in x:\n",
        "        label_scores = {l: log_label_priors[l] for l in labels}\n",
        "        words = set(w_tokenizer.tokenize(text))\n",
        "        for word in words:\n",
        "            if word not in vocab: continue\n",
        "            for l in labels:\n",
        "                log_w_given_l = laplace_smoothing(n_label_items, vocab, word_counts, word, l)\n",
        "                label_scores[l] += log_w_given_l\n",
        "        result.append(max(label_scores, key = label_scores.get))\n",
        "    return result"
      ]
    },
    {
      "cell_type": "code",
      "execution_count": null,
      "id": "62d57405-6ca2-440c-a963-05683d3a1c1c",
      "metadata": {
        "id": "62d57405-6ca2-440c-a963-05683d3a1c1c",
        "outputId": "ee8b07d9-7a2f-4a91-b77f-c08d1984a907",
        "colab": {
          "base_uri": "https://localhost:8080/",
          "height": 35
        }
      },
      "outputs": [
        {
          "output_type": "execute_result",
          "data": {
            "text/plain": [
              "'\\n# Predict on the test set\\npred = predict(n_label_items, vocab, word_counts, log_label_priors, labels, test_phrases)\\n\\n# Calculate accuracy\\nprint(\"Accuracy of prediction on test set: \", accuracy_score(test_labels, pred))\\n'"
            ],
            "application/vnd.google.colaboratory.intrinsic+json": {
              "type": "string"
            }
          },
          "metadata": {},
          "execution_count": 9
        }
      ],
      "source": [
        "# Fit the model on the training data\n",
        "labels = [0, 1, 2, 3, 4]\n",
        "\n",
        "n_label_items, log_label_priors = fit(train_phrases, train_labels, labels)\n",
        "\n",
        "# Initialize and compute word counts for the training set\n",
        "vector = CountVectorizer(max_features=3000)\n",
        "X_train = vector.fit_transform(train_phrases)\n",
        "vocab = vector.get_feature_names_out()  # Update vocab for training set\n",
        "\n",
        "word_counts = {}\n",
        "for i in labels:  # Labels are [0, 1, 2, 3, 4]\n",
        "    word_counts[i] = defaultdict(lambda: 0) # account for unseen words\n",
        "\n",
        "# Populate word counts for each sentiment class\n",
        "X_train = X_train.toarray()\n",
        "for j in range(X_train.shape[0]):\n",
        "    sentiment_class = train_labels[j]\n",
        "    for h in range(len(vocab)):\n",
        "        word_counts[sentiment_class][vocab[h]] += X_train[j][h]\n",
        "\n",
        "'''\n",
        "# Predict on the test set\n",
        "pred = predict(n_label_items, vocab, word_counts, log_label_priors, labels, test_phrases)\n",
        "\n",
        "# Calculate accuracy\n",
        "print(\"Accuracy of prediction on test set: \", accuracy_score(test_labels, pred))\n",
        "'''"
      ]
    },
    {
      "cell_type": "code",
      "execution_count": null,
      "id": "7cd2afa9-5aec-4e0e-be38-a349330fd3a6",
      "metadata": {
        "id": "7cd2afa9-5aec-4e0e-be38-a349330fd3a6"
      },
      "outputs": [],
      "source": []
    }
  ],
  "metadata": {
    "kernelspec": {
      "display_name": "Python 3",
      "name": "python3"
    },
    "language_info": {
      "codemirror_mode": {
        "name": "ipython",
        "version": 3
      },
      "file_extension": ".py",
      "mimetype": "text/x-python",
      "name": "python",
      "nbconvert_exporter": "python",
      "pygments_lexer": "ipython3",
      "version": "3.12.3"
    },
    "colab": {
      "provenance": [],
      "gpuType": "T4",
      "include_colab_link": true
    },
    "accelerator": "GPU"
  },
  "nbformat": 4,
  "nbformat_minor": 5
}